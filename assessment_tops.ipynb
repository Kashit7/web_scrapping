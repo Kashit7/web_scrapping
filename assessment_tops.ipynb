{
 "cells": [
  {
   "cell_type": "code",
   "execution_count": 1,
   "id": "29e0e1fd-4c58-4e3e-9108-f4e8546f7a4b",
   "metadata": {},
   "outputs": [],
   "source": [
    "# Step 1: Import dependencies\n",
    "import requests\n",
    "from bs4 import BeautifulSoup"
   ]
  },
  {
   "cell_type": "code",
   "execution_count": 2,
   "id": "8d441d3e-89c8-4dfd-b110-f52c0c054613",
   "metadata": {},
   "outputs": [],
   "source": [
    "# Step 2: Fetch the web page\n",
    "url = 'http://quotes.toscrape.com'\n",
    "response = requests.get(url)\n",
    "soup = BeautifulSoup(response.text, 'lxml') # or 'html.parser'"
   ]
  },
  {
   "cell_type": "code",
   "execution_count": 3,
   "id": "fb9cc2fe-9b1d-4694-876a-6cf761ef70c0",
   "metadata": {},
   "outputs": [],
   "source": [
    "# Step 3: Scrape all quotes on the first page\n",
    "quotes = []\n",
    "for quote in soup.select('.quote'):\n",
    "    text = quote.select_one('.text').get_text(strip=True)\n",
    "    author = quote.select_one('.author').get_text(strip=True)\n",
    "    tags = [tag.get_text(strip=True) for tag in quote.select('.tags .tag')]\n",
    "    quotes.append({'text': text, 'author': author, 'tags': tags})"
   ]
  },
  {
   "cell_type": "code",
   "execution_count": 4,
   "id": "45cad0f2-73ad-414f-96de-7aa74dfcea8b",
   "metadata": {},
   "outputs": [
    {
     "name": "stdout",
     "output_type": "stream",
     "text": [
      "Quote: “The world as we have created it is a process of our thinking. It cannot be changed without changing our thinking.”\n",
      "Author: Albert Einstein\n",
      "Tags: change, deep-thoughts, thinking, world\n",
      "-----\n",
      "Quote: “It is our choices, Harry, that show what we truly are, far more than our abilities.”\n",
      "Author: J.K. Rowling\n",
      "Tags: abilities, choices\n",
      "-----\n",
      "Quote: “There are only two ways to live your life. One is as though nothing is a miracle. The other is as though everything is a miracle.”\n",
      "Author: Albert Einstein\n",
      "Tags: inspirational, life, live, miracle, miracles\n",
      "-----\n",
      "Quote: “The person, be it gentleman or lady, who has not pleasure in a good novel, must be intolerably stupid.”\n",
      "Author: Jane Austen\n",
      "Tags: aliteracy, books, classic, humor\n",
      "-----\n",
      "Quote: “Imperfection is beauty, madness is genius and it's better to be absolutely ridiculous than absolutely boring.”\n",
      "Author: Marilyn Monroe\n",
      "Tags: be-yourself, inspirational\n",
      "-----\n",
      "Quote: “Try not to become a man of success. Rather become a man of value.”\n",
      "Author: Albert Einstein\n",
      "Tags: adulthood, success, value\n",
      "-----\n",
      "Quote: “It is better to be hated for what you are than to be loved for what you are not.”\n",
      "Author: André Gide\n",
      "Tags: life, love\n",
      "-----\n",
      "Quote: “I have not failed. I've just found 10,000 ways that won't work.”\n",
      "Author: Thomas A. Edison\n",
      "Tags: edison, failure, inspirational, paraphrased\n",
      "-----\n",
      "Quote: “A woman is like a tea bag; you never know how strong it is until it's in hot water.”\n",
      "Author: Eleanor Roosevelt\n",
      "Tags: misattributed-eleanor-roosevelt\n",
      "-----\n",
      "Quote: “A day without sunshine is like, you know, night.”\n",
      "Author: Steve Martin\n",
      "Tags: humor, obvious, simile\n",
      "-----\n"
     ]
    }
   ],
   "source": [
    "# Step 4: Display all quotes with authors and tags\n",
    "for item in quotes:\n",
    "    print(f\"Quote: {item['text']}\")\n",
    "    print(f\"Author: {item['author']}\")\n",
    "    print(f\"Tags: {', '.join(item['tags'])}\")\n",
    "    print('-----')"
   ]
  },
  {
   "cell_type": "code",
   "execution_count": 5,
   "id": "85040933-2323-4bb4-aeac-adad9961284a",
   "metadata": {},
   "outputs": [
    {
     "name": "stdout",
     "output_type": "stream",
     "text": [
      "Authors on the first page:\n",
      "{'Eleanor Roosevelt', 'J.K. Rowling', 'Marilyn Monroe', 'Jane Austen', 'André Gide', 'Steve Martin', 'Albert Einstein', 'Thomas A. Edison'}\n"
     ]
    }
   ],
   "source": [
    "# Step 5: Get all unique authors from the first page\n",
    "authors = set()\n",
    "for author in soup.select('.author'):\n",
    "    authors.add(author.get_text(strip=True))\n",
    "print(\"Authors on the first page:\")\n",
    "print(authors)"
   ]
  },
  {
   "cell_type": "code",
   "execution_count": 6,
   "id": "51c73dfa-22ed-4d91-942f-bfd19b38ac2f",
   "metadata": {},
   "outputs": [
    {
     "name": "stdout",
     "output_type": "stream",
     "text": [
      "Top Tags:\n",
      "['love', 'inspirational', 'life', 'humor', 'books', 'reading', 'friendship', 'friends', 'truth', 'simile']\n"
     ]
    }
   ],
   "source": [
    "# Step 6: Get top ten tags from the tag cloud\n",
    "top_tags = [tag.get_text(strip=True) for tag in soup.select('.tag-item')]\n",
    "print(\"Top Tags:\")\n",
    "print(top_tags)"
   ]
  },
  {
   "cell_type": "code",
   "execution_count": null,
   "id": "a2c94e67-aa9d-46a3-a725-298732286920",
   "metadata": {},
   "outputs": [],
   "source": []
  }
 ],
 "metadata": {
  "kernelspec": {
   "display_name": "Python [conda env:base] *",
   "language": "python",
   "name": "conda-base-py"
  },
  "language_info": {
   "codemirror_mode": {
    "name": "ipython",
    "version": 3
   },
   "file_extension": ".py",
   "mimetype": "text/x-python",
   "name": "python",
   "nbconvert_exporter": "python",
   "pygments_lexer": "ipython3",
   "version": "3.13.5"
  }
 },
 "nbformat": 4,
 "nbformat_minor": 5
}
